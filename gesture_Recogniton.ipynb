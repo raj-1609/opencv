{
 "cells": [
  {
   "cell_type": "code",
   "execution_count": 1,
   "id": "1b8a8aca",
   "metadata": {},
   "outputs": [
    {
     "name": "stdout",
     "output_type": "stream",
     "text": [
      "Press 's' to start data collection forBackground\n",
      "s\n",
      "Press 's' to start data collection forStone\n",
      "s\n",
      "Press 's' to start data collection forPaper\n",
      "s\n",
      "Press 's' to start data collection forScissors\n",
      "s\n"
     ]
    }
   ],
   "source": [
    "import cv2 as cv\n",
    "import os\n",
    "#argument 0 is given to use the default camera of the laptop\n",
    "camera = cv.VideoCapture(0)\n",
    "#Now check if the camera object is created successfully\n",
    "if not camera.isOpened():\n",
    "    print(\"The Camera is not Opened....Exiting\")\n",
    "    exit()\n",
    "#creating a list of lables \"You could add as many you want\"\n",
    "Labels = [\"Background\",\"Stone\",\"Paper\",\"Scissors\"]\n",
    "#Now create folders for each label to store images\n",
    "for label in Labels:\n",
    "    if not os.path.exists(label):\n",
    "        os.mkdir(label)\n",
    "for folder in Labels:\n",
    "    #using count variable to name the images in the dataset.\n",
    "    count = 0\n",
    "    #Taking input to start the capturing\n",
    "    print(\"Press 's' to start data collection for\"+folder)\n",
    "    userinput = input()\n",
    "    if userinput != 's':\n",
    "        print(\"Wrong Input..........\")\n",
    "        exit()\n",
    "    #clicking 200 images per label, you could change as you want.    \n",
    "    while count<200:\n",
    "        #read returns two values one is the exit code and other is the frame\n",
    "        status, frame = camera.read()\n",
    "        #check if we get the frame or not\n",
    "        if not status:\n",
    "            print(\"Frame is not been captured..Exiting...\")\n",
    "            break\n",
    "        #convert the image into gray format for fast caculation\n",
    "        gray = cv.cvtColor(frame, cv.COLOR_BGR2GRAY)\n",
    "        #display window with gray image\n",
    "        cv.imshow(\"Video Window\",gray)\n",
    "        #resizing the image to store it\n",
    "        gray = cv.resize(gray, (28,28))\n",
    "        #Store the image to specific label folder\n",
    "        cv.imwrite('C:/Users/HP/Documents/AnacondaML/'+folder+'/img'+str(count)+'.png',gray)\n",
    "        count=count+1\n",
    "        #to quite the display window press 'q'\n",
    "        if cv.waitKey(1) == ord('q'):\n",
    "            break\n",
    "# When everything done, release the capture\n",
    "camera.release()\n",
    "cv.destroyAllWindows()\n",
    "\n"
   ]
  },
  {
   "cell_type": "code",
   "execution_count": 6,
   "id": "d8a0fde6",
   "metadata": {},
   "outputs": [],
   "source": [
    "#argument 0 is given to use the default camera of the laptop\n"
   ]
  },
  {
   "cell_type": "code",
   "execution_count": null,
   "id": "fd91b871",
   "metadata": {},
   "outputs": [],
   "source": []
  }
 ],
 "metadata": {
  "kernelspec": {
   "display_name": "Python 3",
   "language": "python",
   "name": "python3"
  },
  "language_info": {
   "codemirror_mode": {
    "name": "ipython",
    "version": 3
   },
   "file_extension": ".py",
   "mimetype": "text/x-python",
   "name": "python",
   "nbconvert_exporter": "python",
   "pygments_lexer": "ipython3",
   "version": "3.8.8"
  }
 },
 "nbformat": 4,
 "nbformat_minor": 5
}
